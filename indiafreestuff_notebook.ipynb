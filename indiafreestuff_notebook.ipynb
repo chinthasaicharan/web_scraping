{
 "cells": [
  {
   "cell_type": "markdown",
   "id": "02b076aa",
   "metadata": {},
   "source": [
    "# Indiafreestuff NB"
   ]
  },
  {
   "cell_type": "markdown",
   "id": "cef1aea8",
   "metadata": {},
   "source": [
    "### Initial imports"
   ]
  },
  {
   "cell_type": "code",
   "execution_count": 11,
   "id": "ff64a774",
   "metadata": {},
   "outputs": [],
   "source": [
    "from selenium import webdriver\n",
    "from bs4 import BeautifulSoup as bs\n",
    "from selenium.webdriver.common.keys import Keys\n",
    "from selenium.webdriver.common.by import By\n",
    "from selenium.webdriver.chrome.options import Options\n",
    "from datetime import date\n",
    "from time import sleep\n",
    "import pandas as pd\n",
    "import os\n",
    "import shutil\n",
    "import requests\n",
    "import urllib.parse as decoder\n",
    "import re\n",
    "import timeout_decorator"
   ]
  },
  {
   "cell_type": "markdown",
   "id": "f32689b0",
   "metadata": {},
   "source": [
    "### Reusable functions"
   ]
  },
  {
   "cell_type": "code",
   "execution_count": 12,
   "id": "e4515c02",
   "metadata": {},
   "outputs": [],
   "source": [
    "from reused import databaseImport, initImage, text_to_date, format_to_text, return_text, handle_error, clean_link"
   ]
  },
  {
   "cell_type": "markdown",
   "id": "1ee6f365",
   "metadata": {},
   "source": [
    "### Initializing the image downloads folder"
   ]
  },
  {
   "cell_type": "code",
   "execution_count": 13,
   "id": "348c84ba",
   "metadata": {},
   "outputs": [],
   "source": [
    "today = date.today()\n",
    "date = today.strftime(\"%Y%m%d\")\n",
    "image_count = 0\n",
    "#initImage('./indiafreestuff/images/')"
   ]
  },
  {
   "cell_type": "code",
   "execution_count": null,
   "id": "df6e755b",
   "metadata": {},
   "outputs": [],
   "source": []
  }
 ],
 "metadata": {
  "kernelspec": {
   "display_name": "Python 3 (ipykernel)",
   "language": "python",
   "name": "python3"
  },
  "language_info": {
   "codemirror_mode": {
    "name": "ipython",
    "version": 3
   },
   "file_extension": ".py",
   "mimetype": "text/x-python",
   "name": "python",
   "nbconvert_exporter": "python",
   "pygments_lexer": "ipython3",
   "version": "3.10.6"
  }
 },
 "nbformat": 4,
 "nbformat_minor": 5
}
